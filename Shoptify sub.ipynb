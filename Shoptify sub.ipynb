{
 "cells": [
  {
   "cell_type": "markdown",
   "id": "d4d94968",
   "metadata": {},
   "source": [
    "# Data Science Intern Challenge"
   ]
  },
  {
   "cell_type": "code",
   "execution_count": 205,
   "id": "5c54a4b3",
   "metadata": {},
   "outputs": [],
   "source": [
    "import pandas as pd\n",
    "import numpy as np\n",
    "import matplotlib.pyplot as plt\n",
    "\n",
    "import seaborn as sns\n",
    "%matplotlib inline\n",
    "sns.set_theme()"
   ]
  },
  {
   "cell_type": "markdown",
   "id": "8e77a177",
   "metadata": {},
   "source": [
    "### Question 1: Given some sample data, write a program to answer the following\n",
    "1. Think about what could be going wrong with our calculation. Think about a better way to evaluate this data. \n",
    "2. What metric would you report for this dataset?\n",
    "3. What is its value?\n"
   ]
  },
  {
   "cell_type": "markdown",
   "id": "54dee266",
   "metadata": {},
   "source": [
    "#### Load Data:"
   ]
  },
  {
   "cell_type": "code",
   "execution_count": 206,
   "id": "d2bf8ef8",
   "metadata": {},
   "outputs": [
    {
     "data": {
      "text/html": [
       "<div>\n",
       "<style scoped>\n",
       "    .dataframe tbody tr th:only-of-type {\n",
       "        vertical-align: middle;\n",
       "    }\n",
       "\n",
       "    .dataframe tbody tr th {\n",
       "        vertical-align: top;\n",
       "    }\n",
       "\n",
       "    .dataframe thead th {\n",
       "        text-align: right;\n",
       "    }\n",
       "</style>\n",
       "<table border=\"1\" class=\"dataframe\">\n",
       "  <thead>\n",
       "    <tr style=\"text-align: right;\">\n",
       "      <th></th>\n",
       "      <th>order_id</th>\n",
       "      <th>shop_id</th>\n",
       "      <th>user_id</th>\n",
       "      <th>order_amount</th>\n",
       "      <th>total_items</th>\n",
       "      <th>payment_method</th>\n",
       "      <th>created_at</th>\n",
       "    </tr>\n",
       "  </thead>\n",
       "  <tbody>\n",
       "    <tr>\n",
       "      <th>0</th>\n",
       "      <td>1</td>\n",
       "      <td>53</td>\n",
       "      <td>746</td>\n",
       "      <td>224</td>\n",
       "      <td>2</td>\n",
       "      <td>cash</td>\n",
       "      <td>2017-03-13 12:36:56</td>\n",
       "    </tr>\n",
       "    <tr>\n",
       "      <th>1</th>\n",
       "      <td>2</td>\n",
       "      <td>92</td>\n",
       "      <td>925</td>\n",
       "      <td>90</td>\n",
       "      <td>1</td>\n",
       "      <td>cash</td>\n",
       "      <td>2017-03-03 17:38:52</td>\n",
       "    </tr>\n",
       "    <tr>\n",
       "      <th>2</th>\n",
       "      <td>3</td>\n",
       "      <td>44</td>\n",
       "      <td>861</td>\n",
       "      <td>144</td>\n",
       "      <td>1</td>\n",
       "      <td>cash</td>\n",
       "      <td>2017-03-14 4:23:56</td>\n",
       "    </tr>\n",
       "    <tr>\n",
       "      <th>3</th>\n",
       "      <td>4</td>\n",
       "      <td>18</td>\n",
       "      <td>935</td>\n",
       "      <td>156</td>\n",
       "      <td>1</td>\n",
       "      <td>credit_card</td>\n",
       "      <td>2017-03-26 12:43:37</td>\n",
       "    </tr>\n",
       "    <tr>\n",
       "      <th>4</th>\n",
       "      <td>5</td>\n",
       "      <td>18</td>\n",
       "      <td>883</td>\n",
       "      <td>156</td>\n",
       "      <td>1</td>\n",
       "      <td>credit_card</td>\n",
       "      <td>2017-03-01 4:35:11</td>\n",
       "    </tr>\n",
       "  </tbody>\n",
       "</table>\n",
       "</div>"
      ],
      "text/plain": [
       "   order_id  shop_id  user_id  order_amount  total_items payment_method  \\\n",
       "0         1       53      746           224            2           cash   \n",
       "1         2       92      925            90            1           cash   \n",
       "2         3       44      861           144            1           cash   \n",
       "3         4       18      935           156            1    credit_card   \n",
       "4         5       18      883           156            1    credit_card   \n",
       "\n",
       "            created_at  \n",
       "0  2017-03-13 12:36:56  \n",
       "1  2017-03-03 17:38:52  \n",
       "2   2017-03-14 4:23:56  \n",
       "3  2017-03-26 12:43:37  \n",
       "4   2017-03-01 4:35:11  "
      ]
     },
     "execution_count": 206,
     "metadata": {},
     "output_type": "execute_result"
    }
   ],
   "source": [
    "df = pd.read_csv(r'C:\\Users\\KY PHUOC\\Downloads\\2019 Winter Data Science Intern Challenge Data Set - Sheet1.csv')\n",
    "df.head()"
   ]
  },
  {
   "cell_type": "markdown",
   "id": "d3acbfe6",
   "metadata": {},
   "source": [
    "### 1. Think about what could be going wrong with our calculation. Think about a better way to evaluate this data"
   ]
  },
  {
   "cell_type": "markdown",
   "id": "18423d94",
   "metadata": {},
   "source": [
    "To analyze AOV, we have to determine what factors that impact on AOV\n",
    "\n",
    "AOV = sum of order_amount / number of orders\n",
    "\n",
    "Let visualize order_amount metric by boxplot"
   ]
  },
  {
   "cell_type": "code",
   "execution_count": 207,
   "id": "ad0f50f9",
   "metadata": {},
   "outputs": [
    {
     "data": {
      "image/png": "[encoded data removed]",
      "text/plain": [
       "<Figure size 1080x360 with 2 Axes>"
      ]
     },
     "metadata": {},
     "output_type": "display_data"
    }
   ],
   "source": [
    "fig, axes = plt.subplots(nrows=1, ncols=2, figsize=(15, 5))\n",
    "df[\"order_amount\"].hist(bins=50, ax=axes[0])\n",
    "df[\"order_amount\"].to_frame().boxplot(ax=axes[1], vert=True);"
   ]
  },
  {
   "cell_type": "markdown",
   "id": "77767132",
   "metadata": {},
   "source": [
    "From the histogram the data is seen to be skewed to the right (with the exception of a lot of skew to the right, or the \"tail\" of the histogram is to the right). From the boxplot we see that there are many points that are considered outliers. The point outliers can be handled by clipping the minimum and maximum values of the boxplot. This process that can be exploited as a sklearn API is as follows: "
   ]
  },
  {
   "cell_type": "code",
   "execution_count": 208,
   "id": "08b21968",
   "metadata": {},
   "outputs": [],
   "source": [
    "from typing import Tuple\n",
    "from sklearn.base import BaseEstimator, TransformerMixin\n",
    "\n",
    "\n",
    "def find_boxplot_boundaries(\n",
    "    col: pd.Series, whisker_coeff: float = 1.5\n",
    ") -> Tuple[float, float]:\n",
    "    \"\"\"Findx minimum and maximum in boxplot.\n",
    "\n",
    "    Args:\n",
    "        col: a pandas serires of input.\n",
    "        whisker_coeff: whisker coefficient in box plot\n",
    "    \"\"\"\n",
    "    Q1 = col.quantile(0.25)\n",
    "    Q3 = col.quantile(0.75)\n",
    "    IQR = Q3 - Q1\n",
    "    lower = Q1 - whisker_coeff * IQR\n",
    "    upper = Q3 + whisker_coeff * IQR\n",
    "    return lower, upper\n",
    "\n",
    "\n",
    "class BoxplotOutlierClipper(BaseEstimator, TransformerMixin):\n",
    "    def __init__(self, whisker_coeff: float = 1.5):\n",
    "        self.whisker = whisker_coeff\n",
    "        self.lower = None\n",
    "        self.upper = None\n",
    "\n",
    "    def fit(self, X: pd.Series):\n",
    "        self.lower, self.upper = find_boxplot_boundaries(X, self.whisker)\n",
    "        return self\n",
    "\n",
    "    def transform(self, X):\n",
    "        return X.clip(self.lower, self.upper)"
   ]
  },
  {
   "cell_type": "code",
   "execution_count": 209,
   "id": "ecfea0d3",
   "metadata": {},
   "outputs": [
    {
     "data": {
      "image/png": "[encoded data removed]",
      "text/plain": [
       "<Figure size 1080x360 with 2 Axes>"
      ]
     },
     "metadata": {},
     "output_type": "display_data"
    }
   ],
   "source": [
    "df[\"order_amount\"] = BoxplotOutlierClipper().fit_transform(df[\"order_amount\"])\n",
    "df.astype({\"order_amount\" : int})\n",
    "fig, axes = plt.subplots(nrows=1, ncols=2, figsize=(15, 5))\n",
    "df[\"order_amount\"].hist(bins=50, ax=axes[0])\n",
    "df[\"order_amount\"].to_frame().boxplot(ax=axes[1], vert=True);"
   ]
  },
  {
   "cell_type": "markdown",
   "id": "97668530",
   "metadata": {},
   "source": [
    "After clipping the data to the minimum and maximum of the box plot, we see that the data is less skewed. The box plot also shows that there are no more outliers. "
   ]
  },
  {
   "cell_type": "code",
   "execution_count": 47,
   "id": "c1a1b97e",
   "metadata": {},
   "outputs": [
    {
     "name": "stdout",
     "output_type": "stream",
     "text": [
      " Actual AOV = 306.0327\n"
     ]
    }
   ],
   "source": [
    "print(\" Actual AOV =\", df['order_amount'].sum()/df['order_id'].count())"
   ]
  },
  {
   "cell_type": "markdown",
   "id": "e56ce333",
   "metadata": {},
   "source": [
    "#### After clipping outliers, the AOV of total orders is 306.0327"
   ]
  },
  {
   "cell_type": "markdown",
   "id": "1f15c2ff",
   "metadata": {},
   "source": [
    "### 2. What metric would you report for this dataset? "
   ]
  },
  {
   "cell_type": "markdown",
   "id": "f35d5c65",
   "metadata": {},
   "source": [
    "As a analyst, I would like to add 2 metrics in the report: sales in each day and number of order in each hour."
   ]
  },
  {
   "cell_type": "code",
   "execution_count": 221,
   "id": "a14b66da",
   "metadata": {
    "collapsed": true
   },
   "outputs": [
    {
     "data": {
      "text/html": [
       "<div>\n",
       "<style scoped>\n",
       "    .dataframe tbody tr th:only-of-type {\n",
       "        vertical-align: middle;\n",
       "    }\n",
       "\n",
       "    .dataframe tbody tr th {\n",
       "        vertical-align: top;\n",
       "    }\n",
       "\n",
       "    .dataframe thead th {\n",
       "        text-align: right;\n",
       "    }\n",
       "</style>\n",
       "<table border=\"1\" class=\"dataframe\">\n",
       "  <thead>\n",
       "    <tr style=\"text-align: right;\">\n",
       "      <th></th>\n",
       "      <th>order_id</th>\n",
       "      <th>shop_id</th>\n",
       "      <th>user_id</th>\n",
       "      <th>order_amount</th>\n",
       "      <th>total_items</th>\n",
       "      <th>payment_method</th>\n",
       "      <th>created_at</th>\n",
       "      <th>Day</th>\n",
       "    </tr>\n",
       "  </thead>\n",
       "  <tbody>\n",
       "    <tr>\n",
       "      <th>0</th>\n",
       "      <td>1</td>\n",
       "      <td>53</td>\n",
       "      <td>746</td>\n",
       "      <td>224</td>\n",
       "      <td>2</td>\n",
       "      <td>cash</td>\n",
       "      <td>2017-03-13 12:36:56</td>\n",
       "      <td>13</td>\n",
       "    </tr>\n",
       "    <tr>\n",
       "      <th>1</th>\n",
       "      <td>2</td>\n",
       "      <td>92</td>\n",
       "      <td>925</td>\n",
       "      <td>90</td>\n",
       "      <td>1</td>\n",
       "      <td>cash</td>\n",
       "      <td>2017-03-03 17:38:52</td>\n",
       "      <td>3</td>\n",
       "    </tr>\n",
       "    <tr>\n",
       "      <th>2</th>\n",
       "      <td>3</td>\n",
       "      <td>44</td>\n",
       "      <td>861</td>\n",
       "      <td>144</td>\n",
       "      <td>1</td>\n",
       "      <td>cash</td>\n",
       "      <td>2017-03-14 4:23:56</td>\n",
       "      <td>14</td>\n",
       "    </tr>\n",
       "    <tr>\n",
       "      <th>3</th>\n",
       "      <td>4</td>\n",
       "      <td>18</td>\n",
       "      <td>935</td>\n",
       "      <td>156</td>\n",
       "      <td>1</td>\n",
       "      <td>credit_card</td>\n",
       "      <td>2017-03-26 12:43:37</td>\n",
       "      <td>26</td>\n",
       "    </tr>\n",
       "    <tr>\n",
       "      <th>4</th>\n",
       "      <td>5</td>\n",
       "      <td>18</td>\n",
       "      <td>883</td>\n",
       "      <td>156</td>\n",
       "      <td>1</td>\n",
       "      <td>credit_card</td>\n",
       "      <td>2017-03-01 4:35:11</td>\n",
       "      <td>1</td>\n",
       "    </tr>\n",
       "    <tr>\n",
       "      <th>...</th>\n",
       "      <td>...</td>\n",
       "      <td>...</td>\n",
       "      <td>...</td>\n",
       "      <td>...</td>\n",
       "      <td>...</td>\n",
       "      <td>...</td>\n",
       "      <td>...</td>\n",
       "      <td>...</td>\n",
       "    </tr>\n",
       "    <tr>\n",
       "      <th>4995</th>\n",
       "      <td>4996</td>\n",
       "      <td>73</td>\n",
       "      <td>993</td>\n",
       "      <td>330</td>\n",
       "      <td>2</td>\n",
       "      <td>debit</td>\n",
       "      <td>2017-03-30 13:47:17</td>\n",
       "      <td>30</td>\n",
       "    </tr>\n",
       "    <tr>\n",
       "      <th>4996</th>\n",
       "      <td>4997</td>\n",
       "      <td>48</td>\n",
       "      <td>789</td>\n",
       "      <td>234</td>\n",
       "      <td>2</td>\n",
       "      <td>cash</td>\n",
       "      <td>2017-03-16 20:36:16</td>\n",
       "      <td>16</td>\n",
       "    </tr>\n",
       "    <tr>\n",
       "      <th>4997</th>\n",
       "      <td>4998</td>\n",
       "      <td>56</td>\n",
       "      <td>867</td>\n",
       "      <td>351</td>\n",
       "      <td>3</td>\n",
       "      <td>cash</td>\n",
       "      <td>2017-03-19 5:42:42</td>\n",
       "      <td>19</td>\n",
       "    </tr>\n",
       "    <tr>\n",
       "      <th>4998</th>\n",
       "      <td>4999</td>\n",
       "      <td>60</td>\n",
       "      <td>825</td>\n",
       "      <td>354</td>\n",
       "      <td>2</td>\n",
       "      <td>credit_card</td>\n",
       "      <td>2017-03-16 14:51:18</td>\n",
       "      <td>16</td>\n",
       "    </tr>\n",
       "    <tr>\n",
       "      <th>4999</th>\n",
       "      <td>5000</td>\n",
       "      <td>44</td>\n",
       "      <td>734</td>\n",
       "      <td>288</td>\n",
       "      <td>2</td>\n",
       "      <td>debit</td>\n",
       "      <td>2017-03-18 15:48:18</td>\n",
       "      <td>18</td>\n",
       "    </tr>\n",
       "  </tbody>\n",
       "</table>\n",
       "<p>5000 rows × 8 columns</p>\n",
       "</div>"
      ],
      "text/plain": [
       "      order_id  shop_id  user_id  order_amount  total_items payment_method  \\\n",
       "0            1       53      746           224            2           cash   \n",
       "1            2       92      925            90            1           cash   \n",
       "2            3       44      861           144            1           cash   \n",
       "3            4       18      935           156            1    credit_card   \n",
       "4            5       18      883           156            1    credit_card   \n",
       "...        ...      ...      ...           ...          ...            ...   \n",
       "4995      4996       73      993           330            2          debit   \n",
       "4996      4997       48      789           234            2           cash   \n",
       "4997      4998       56      867           351            3           cash   \n",
       "4998      4999       60      825           354            2    credit_card   \n",
       "4999      5000       44      734           288            2          debit   \n",
       "\n",
       "               created_at  Day  \n",
       "0     2017-03-13 12:36:56   13  \n",
       "1     2017-03-03 17:38:52    3  \n",
       "2      2017-03-14 4:23:56   14  \n",
       "3     2017-03-26 12:43:37   26  \n",
       "4      2017-03-01 4:35:11    1  \n",
       "...                   ...  ...  \n",
       "4995  2017-03-30 13:47:17   30  \n",
       "4996  2017-03-16 20:36:16   16  \n",
       "4997   2017-03-19 5:42:42   19  \n",
       "4998  2017-03-16 14:51:18   16  \n",
       "4999  2017-03-18 15:48:18   18  \n",
       "\n",
       "[5000 rows x 8 columns]"
      ]
     },
     "execution_count": 221,
     "metadata": {},
     "output_type": "execute_result"
    }
   ],
   "source": [
    "df['Day'] = df['created_at'].str[8:10]\n",
    "\n",
    "df.Day = df.Day.astype('int64')\n",
    "df.order_amount = df.order_amount.astype('int64')\n",
    "df"
   ]
  },
  {
   "cell_type": "markdown",
   "id": "eea6f308",
   "metadata": {},
   "source": [
    "#### computing amount orders in terms of day"
   ]
  },
  {
   "cell_type": "code",
   "execution_count": 224,
   "id": "4dea236b",
   "metadata": {},
   "outputs": [
    {
     "data": {
      "text/html": [
       "<div>\n",
       "<style scoped>\n",
       "    .dataframe tbody tr th:only-of-type {\n",
       "        vertical-align: middle;\n",
       "    }\n",
       "\n",
       "    .dataframe tbody tr th {\n",
       "        vertical-align: top;\n",
       "    }\n",
       "\n",
       "    .dataframe thead th {\n",
       "        text-align: right;\n",
       "    }\n",
       "</style>\n",
       "<table border=\"1\" class=\"dataframe\">\n",
       "  <thead>\n",
       "    <tr style=\"text-align: right;\">\n",
       "      <th></th>\n",
       "      <th>Day</th>\n",
       "      <th>amount_day</th>\n",
       "    </tr>\n",
       "  </thead>\n",
       "  <tbody>\n",
       "    <tr>\n",
       "      <th>0</th>\n",
       "      <td>1</td>\n",
       "      <td>55364</td>\n",
       "    </tr>\n",
       "    <tr>\n",
       "      <th>1</th>\n",
       "      <td>2</td>\n",
       "      <td>55014</td>\n",
       "    </tr>\n",
       "    <tr>\n",
       "      <th>2</th>\n",
       "      <td>3</td>\n",
       "      <td>48244</td>\n",
       "    </tr>\n",
       "    <tr>\n",
       "      <th>3</th>\n",
       "      <td>4</td>\n",
       "      <td>49585</td>\n",
       "    </tr>\n",
       "    <tr>\n",
       "      <th>4</th>\n",
       "      <td>5</td>\n",
       "      <td>49740</td>\n",
       "    </tr>\n",
       "    <tr>\n",
       "      <th>5</th>\n",
       "      <td>6</td>\n",
       "      <td>42210</td>\n",
       "    </tr>\n",
       "    <tr>\n",
       "      <th>6</th>\n",
       "      <td>7</td>\n",
       "      <td>58831</td>\n",
       "    </tr>\n",
       "    <tr>\n",
       "      <th>7</th>\n",
       "      <td>8</td>\n",
       "      <td>43221</td>\n",
       "    </tr>\n",
       "    <tr>\n",
       "      <th>8</th>\n",
       "      <td>9</td>\n",
       "      <td>63972</td>\n",
       "    </tr>\n",
       "    <tr>\n",
       "      <th>9</th>\n",
       "      <td>10</td>\n",
       "      <td>47775</td>\n",
       "    </tr>\n",
       "    <tr>\n",
       "      <th>10</th>\n",
       "      <td>11</td>\n",
       "      <td>52874</td>\n",
       "    </tr>\n",
       "    <tr>\n",
       "      <th>11</th>\n",
       "      <td>12</td>\n",
       "      <td>51869</td>\n",
       "    </tr>\n",
       "    <tr>\n",
       "      <th>12</th>\n",
       "      <td>13</td>\n",
       "      <td>49913</td>\n",
       "    </tr>\n",
       "    <tr>\n",
       "      <th>13</th>\n",
       "      <td>14</td>\n",
       "      <td>46237</td>\n",
       "    </tr>\n",
       "    <tr>\n",
       "      <th>14</th>\n",
       "      <td>15</td>\n",
       "      <td>42182</td>\n",
       "    </tr>\n",
       "    <tr>\n",
       "      <th>15</th>\n",
       "      <td>16</td>\n",
       "      <td>45137</td>\n",
       "    </tr>\n",
       "    <tr>\n",
       "      <th>16</th>\n",
       "      <td>17</td>\n",
       "      <td>61010</td>\n",
       "    </tr>\n",
       "    <tr>\n",
       "      <th>17</th>\n",
       "      <td>18</td>\n",
       "      <td>56784</td>\n",
       "    </tr>\n",
       "    <tr>\n",
       "      <th>18</th>\n",
       "      <td>19</td>\n",
       "      <td>45467</td>\n",
       "    </tr>\n",
       "    <tr>\n",
       "      <th>19</th>\n",
       "      <td>20</td>\n",
       "      <td>47934</td>\n",
       "    </tr>\n",
       "    <tr>\n",
       "      <th>20</th>\n",
       "      <td>21</td>\n",
       "      <td>50843</td>\n",
       "    </tr>\n",
       "    <tr>\n",
       "      <th>21</th>\n",
       "      <td>22</td>\n",
       "      <td>53160</td>\n",
       "    </tr>\n",
       "    <tr>\n",
       "      <th>22</th>\n",
       "      <td>23</td>\n",
       "      <td>49631</td>\n",
       "    </tr>\n",
       "    <tr>\n",
       "      <th>23</th>\n",
       "      <td>24</td>\n",
       "      <td>49359</td>\n",
       "    </tr>\n",
       "    <tr>\n",
       "      <th>24</th>\n",
       "      <td>25</td>\n",
       "      <td>52457</td>\n",
       "    </tr>\n",
       "    <tr>\n",
       "      <th>25</th>\n",
       "      <td>26</td>\n",
       "      <td>55488</td>\n",
       "    </tr>\n",
       "    <tr>\n",
       "      <th>26</th>\n",
       "      <td>27</td>\n",
       "      <td>53575</td>\n",
       "    </tr>\n",
       "    <tr>\n",
       "      <th>27</th>\n",
       "      <td>28</td>\n",
       "      <td>55174</td>\n",
       "    </tr>\n",
       "    <tr>\n",
       "      <th>28</th>\n",
       "      <td>29</td>\n",
       "      <td>48153</td>\n",
       "    </tr>\n",
       "    <tr>\n",
       "      <th>29</th>\n",
       "      <td>30</td>\n",
       "      <td>48890</td>\n",
       "    </tr>\n",
       "  </tbody>\n",
       "</table>\n",
       "</div>"
      ],
      "text/plain": [
       "    Day  amount_day\n",
       "0     1       55364\n",
       "1     2       55014\n",
       "2     3       48244\n",
       "3     4       49585\n",
       "4     5       49740\n",
       "5     6       42210\n",
       "6     7       58831\n",
       "7     8       43221\n",
       "8     9       63972\n",
       "9    10       47775\n",
       "10   11       52874\n",
       "11   12       51869\n",
       "12   13       49913\n",
       "13   14       46237\n",
       "14   15       42182\n",
       "15   16       45137\n",
       "16   17       61010\n",
       "17   18       56784\n",
       "18   19       45467\n",
       "19   20       47934\n",
       "20   21       50843\n",
       "21   22       53160\n",
       "22   23       49631\n",
       "23   24       49359\n",
       "24   25       52457\n",
       "25   26       55488\n",
       "26   27       53575\n",
       "27   28       55174\n",
       "28   29       48153\n",
       "29   30       48890"
      ]
     },
     "execution_count": 224,
     "metadata": {},
     "output_type": "execute_result"
    }
   ],
   "source": [
    "amount_day = df.groupby('Day')['order_amount'].sum().rename_axis('Day').reset_index(name='amount_day')\n",
    "amount_day"
   ]
  },
  {
   "cell_type": "code",
   "execution_count": 226,
   "id": "2855e6bf",
   "metadata": {
    "scrolled": false
   },
   "outputs": [
    {
     "data": {
      "image/png": "[encoded data removed]",
      "text/plain": [
       "<Figure size 720x360 with 1 Axes>"
      ]
     },
     "metadata": {},
     "output_type": "display_data"
    }
   ],
   "source": [
    "fig = plt.figure(figsize = (10, 5))\n",
    "plt.bar(x=amount_day['Day'], height=amount_day['amount_day'])\n",
    "plt.xticks(amount_day['Day'])\n",
    "plt.xlabel('Day')\n",
    "plt.ylabel('Sales')\n",
    "plt.show()"
   ]
  },
  {
   "cell_type": "markdown",
   "id": "9f4ae16d",
   "metadata": {},
   "source": [
    "#### computing number of orders in terms of hour"
   ]
  },
  {
   "cell_type": "code",
   "execution_count": 230,
   "id": "bcd2fb0b",
   "metadata": {
    "scrolled": true
   },
   "outputs": [
    {
     "data": {
      "image/png": "[encoded data removed]",
      "text/plain": [
       "<Figure size 720x360 with 1 Axes>"
      ]
     },
     "metadata": {},
     "output_type": "display_data"
    }
   ],
   "source": [
    "df['created_at'] = pd.to_datetime(df['created_at'])\n",
    "df['Hours'] = df['created_at'].dt.hour\n",
    "sales_hours = df.groupby('Hours').count()['order_id']\n",
    "hours = [hour for hour, sales in sales_hours.items()]\n",
    "fig = plt.figure(figsize = (10, 5))\n",
    "plt.plot(hours, sales_hours)\n",
    "plt.grid()\n",
    "plt.xticks(hours, rotation=90, size=8)\n",
    "plt.xlabel('Hours')\n",
    "plt.ylabel('Sales')\n",
    "plt.show()"
   ]
  },
  {
   "cell_type": "markdown",
   "id": "dbbc0568",
   "metadata": {},
   "source": [
    "#### 3. What is it value?"
   ]
  },
  {
   "cell_type": "markdown",
   "id": "12791d5e",
   "metadata": {},
   "source": [
    "- Firstly, in oder to come up with marketing strategy such as advertising or giving promotion, stakeholder has to know that the exatly days of month that the sales is high compared to average.\n",
    "    \n",
    "- Secondly, to reducce the cost of running marketing, advertising should be conducted according to the hour that customer purchase goods the most."
   ]
  },
  {
   "cell_type": "code",
   "execution_count": 234,
   "id": "93624cd7",
   "metadata": {},
   "outputs": [
    {
     "data": {
      "text/html": [
       "<div>\n",
       "<style scoped>\n",
       "    .dataframe tbody tr th:only-of-type {\n",
       "        vertical-align: middle;\n",
       "    }\n",
       "\n",
       "    .dataframe tbody tr th {\n",
       "        vertical-align: top;\n",
       "    }\n",
       "\n",
       "    .dataframe thead th {\n",
       "        text-align: right;\n",
       "    }\n",
       "</style>\n",
       "<table border=\"1\" class=\"dataframe\">\n",
       "  <thead>\n",
       "    <tr style=\"text-align: right;\">\n",
       "      <th></th>\n",
       "      <th>total_items</th>\n",
       "      <th>total_amount</th>\n",
       "      <th>count</th>\n",
       "      <th>AOV</th>\n",
       "      <th>Avg_AOV</th>\n",
       "    </tr>\n",
       "  </thead>\n",
       "  <tbody>\n",
       "    <tr>\n",
       "      <th>0</th>\n",
       "      <td>1</td>\n",
       "      <td>288872</td>\n",
       "      <td>1830</td>\n",
       "      <td>157.853552</td>\n",
       "      <td>NaN</td>\n",
       "    </tr>\n",
       "    <tr>\n",
       "      <th>1</th>\n",
       "      <td>2</td>\n",
       "      <td>562874</td>\n",
       "      <td>1832</td>\n",
       "      <td>307.245633</td>\n",
       "      <td>157.853552</td>\n",
       "    </tr>\n",
       "    <tr>\n",
       "      <th>2</th>\n",
       "      <td>3</td>\n",
       "      <td>431820</td>\n",
       "      <td>941</td>\n",
       "      <td>458.894793</td>\n",
       "      <td>307.245633</td>\n",
       "    </tr>\n",
       "    <tr>\n",
       "      <th>3</th>\n",
       "      <td>4</td>\n",
       "      <td>173472</td>\n",
       "      <td>293</td>\n",
       "      <td>592.054608</td>\n",
       "      <td>458.894793</td>\n",
       "    </tr>\n",
       "    <tr>\n",
       "      <th>4</th>\n",
       "      <td>5</td>\n",
       "      <td>53345</td>\n",
       "      <td>77</td>\n",
       "      <td>692.792208</td>\n",
       "      <td>592.054608</td>\n",
       "    </tr>\n",
       "    <tr>\n",
       "      <th>5</th>\n",
       "      <td>6</td>\n",
       "      <td>6570</td>\n",
       "      <td>9</td>\n",
       "      <td>730.000000</td>\n",
       "      <td>692.792208</td>\n",
       "    </tr>\n",
       "    <tr>\n",
       "      <th>6</th>\n",
       "      <td>8</td>\n",
       "      <td>730</td>\n",
       "      <td>1</td>\n",
       "      <td>730.000000</td>\n",
       "      <td>730.000000</td>\n",
       "    </tr>\n",
       "    <tr>\n",
       "      <th>7</th>\n",
       "      <td>2000</td>\n",
       "      <td>12410</td>\n",
       "      <td>17</td>\n",
       "      <td>730.000000</td>\n",
       "      <td>NaN</td>\n",
       "    </tr>\n",
       "  </tbody>\n",
       "</table>\n",
       "</div>"
      ],
      "text/plain": [
       "   total_items  total_amount  count         AOV     Avg_AOV\n",
       "0            1        288872   1830  157.853552         NaN\n",
       "1            2        562874   1832  307.245633  157.853552\n",
       "2            3        431820    941  458.894793  307.245633\n",
       "3            4        173472    293  592.054608  458.894793\n",
       "4            5         53345     77  692.792208  592.054608\n",
       "5            6          6570      9  730.000000  692.792208\n",
       "6            8           730      1  730.000000  730.000000\n",
       "7         2000         12410     17  730.000000         NaN"
      ]
     },
     "execution_count": 234,
     "metadata": {},
     "output_type": "execute_result"
    }
   ],
   "source": [
    "df_group = df.groupby('total_items')['order_amount'].sum().rename_axis('total_items').reset_index(name='total_amount')\n",
    "df1 = df.groupby('total_items')['order_amount'].count().rename_axis('total_items').reset_index(name='count')\n",
    "df1  =df1.drop(\"total_items\", axis=1)\n",
    "df_group['count'] = df1\n",
    "df_group['AOV'] =df_group['total_amount']/df_group['count']\n",
    "df_group['Avg_AOV']= df_group.groupby('total_items')['AOV'].median()\n",
    "df_group"
   ]
  },
  {
   "cell_type": "markdown",
   "id": "39f6fa18",
   "metadata": {},
   "source": [
    "According to AOV mean, If the total items in one offer are 4, the business will receive AOV higher than average. Therefore, the company should apply trategy susch as prodiving discount if customer buy more 4 items at once or doing up-sell and cross-sell which is a form of increasing revenue and sales for businesses through activities that encourage customers to buy more products or services with higher value or buy other related products. "
   ]
  },
  {
   "cell_type": "markdown",
   "id": "1b57f302",
   "metadata": {},
   "source": [
    "### Question 2:\n",
    "1. How many orders were shipped by Speedy Express in total?"
   ]
  },
  {
   "cell_type": "markdown",
   "id": "b6ffd8f8",
   "metadata": {},
   "source": [
    "SELECT count(OrderID) as amount_order \n",
    "\n",
    "FROM [Orders] \n",
    "\n",
    "where [ShipperID] in (select [ShipperID] from [Shippers] \n",
    "\n",
    "where [ShipperName] = 'Speedy Express')\n"
   ]
  },
  {
   "cell_type": "markdown",
   "id": "7c6a8c2d",
   "metadata": {},
   "source": [
    "#### The number of orders shipped by Speedy Express is 54"
   ]
  },
  {
   "cell_type": "markdown",
   "id": "dbbfa1b9",
   "metadata": {},
   "source": [
    "2. What is the last name of the employee with the most orders?"
   ]
  },
  {
   "cell_type": "markdown",
   "id": "0ceead85",
   "metadata": {},
   "source": [
    "select LastName, count(*) as emp_num_order\n",
    "\n",
    "from Employees join Orders on Employees.EmployeeID = Orders.EmployeeID\n",
    "\n",
    "Group by Orders.EmployeeID\n",
    "\n",
    "Order by count(Orders.OrderID) DESC\n"
   ]
  },
  {
   "cell_type": "markdown",
   "id": "de806401",
   "metadata": {},
   "source": [
    "#### Peacock is the last name of employee with the most order"
   ]
  },
  {
   "cell_type": "markdown",
   "id": "b397b020",
   "metadata": {},
   "source": [
    "3. What product was ordered the most by customers in Germany?"
   ]
  },
  {
   "cell_type": "markdown",
   "id": "11a1f885",
   "metadata": {},
   "source": [
    "select ProductName, MAX(Quantity)\n",
    "FROM(\n",
    "select Products.ProductName as ProductName, OrderDetails.Quantity\n",
    "\n",
    "from Orders\n",
    "\n",
    "JOIN Customers ON Orders.CustomerID=Customers.CustomerID\n",
    "\n",
    "JOIN Products ON Products.ProductID=OrderDetails.ProductID\n",
    "\n",
    "JOIN OrderDetails ON Orders.OrderID=OrderDetails.OrderID\n",
    "\n",
    "WHERE Country = 'Germany'\n",
    "\n",
    "Group By Products.ProductID\n",
    "\n",
    "Order by  Quantity Desc);"
   ]
  },
  {
   "cell_type": "markdown",
   "id": "64440fc0",
   "metadata": {},
   "source": [
    "#### Steeleye Stout is the most ordered item in Germany"
   ]
  }
 ],
 "metadata": {
  "kernelspec": {
   "display_name": "Python 3 (ipykernel)",
   "language": "python",
   "name": "python3"
  },
  "language_info": {
   "codemirror_mode": {
    "name": "ipython",
    "version": 3
   },
   "file_extension": ".py",
   "mimetype": "text/x-python",
   "name": "python",
   "nbconvert_exporter": "python",
   "pygments_lexer": "ipython3",
   "version": "3.9.7"
  }
 },
 "nbformat": 4,
 "nbformat_minor": 5
}
